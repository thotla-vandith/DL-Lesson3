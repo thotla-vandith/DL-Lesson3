{
  "nbformat": 4,
  "nbformat_minor": 0,
  "metadata": {
    "colab": {
      "name": "DL-ICP3(sentiment analysis).ipynb",
      "provenance": [],
      "collapsed_sections": [],
      "toc_visible": true,
      "machine_shape": "hm",
      "include_colab_link": true
    },
    "kernelspec": {
      "name": "python3",
      "display_name": "Python 3"
    }
  },
  "cells": [
    {
      "cell_type": "markdown",
      "metadata": {
        "id": "view-in-github",
        "colab_type": "text"
      },
      "source": [
        "<a href=\"https://colab.research.google.com/github/thotla-vandith/DL-Lesson3/blob/master/DL_ICP3(sentiment_analysis).ipynb\" target=\"_parent\"><img src=\"https://colab.research.google.com/assets/colab-badge.svg\" alt=\"Open In Colab\"/></a>"
      ]
    },
    {
      "cell_type": "code",
      "metadata": {
        "id": "5M12SaIz_8ia",
        "colab_type": "code",
        "colab": {}
      },
      "source": [
        "from google.colab import drive\n",
        "drive.mount('/content/drive')"
      ],
      "execution_count": 0,
      "outputs": []
    },
    {
      "cell_type": "code",
      "metadata": {
        "id": "YCGsF9irW4Cz",
        "colab_type": "code",
        "outputId": "26bea080-7196-4082-a9bd-e1be3e51604c",
        "colab": {
          "base_uri": "https://localhost:8080/",
          "height": 33
        }
      },
      "source": [
        "%tensorflow_version 1.x\n",
        "from keras.models import Sequential\n",
        "from keras import layers\n",
        "from keras.preprocessing.text import Tokenizer\n",
        "import pandas as pd\n",
        "from sklearn import preprocessing\n",
        "from sklearn.model_selection import train_test_split"
      ],
      "execution_count": 0,
      "outputs": [
        {
          "output_type": "stream",
          "text": [
            "TensorFlow is already loaded. Please restart the runtime to change versions.\n"
          ],
          "name": "stdout"
        }
      ]
    },
    {
      "cell_type": "code",
      "metadata": {
        "id": "MNaC3jEBW9dw",
        "colab_type": "code",
        "outputId": "22e0f7b5-2d7f-4c0f-9a56-dd8581900483",
        "colab": {
          "base_uri": "https://localhost:8080/",
          "height": 147
        }
      },
      "source": [
        "df = pd.read_csv('drive/My Drive/Python Colab/DL_Lesson3/imdb_master.csv',encoding='latin-1')\n",
        "print(df.head())\n",
        "sentences = df['review'].values\n",
        "pureSentences = sentences\n",
        "y = df['label'].values"
      ],
      "execution_count": 0,
      "outputs": [
        {
          "output_type": "stream",
          "text": [
            "   Unnamed: 0  type  ... label         file\n",
            "0           0  test  ...   neg      0_2.txt\n",
            "1           1  test  ...   neg  10000_4.txt\n",
            "2           2  test  ...   neg  10001_1.txt\n",
            "3           3  test  ...   neg  10002_3.txt\n",
            "4           4  test  ...   neg  10003_3.txt\n",
            "\n",
            "[5 rows x 5 columns]\n"
          ],
          "name": "stdout"
        }
      ]
    },
    {
      "cell_type": "markdown",
      "metadata": {
        "id": "Df6hooweXBJo",
        "colab_type": "text"
      },
      "source": [
        "###  Tokenizing the data."
      ]
    },
    {
      "cell_type": "code",
      "metadata": {
        "id": "PSUceLgkW-wI",
        "colab_type": "code",
        "colab": {}
      },
      "source": [
        "tokenizer = Tokenizer(num_words=2000)\n",
        "tokenizer.fit_on_texts(sentences)"
      ],
      "execution_count": 0,
      "outputs": []
    },
    {
      "cell_type": "markdown",
      "metadata": {
        "id": "pR78DrA6XD48",
        "colab_type": "text"
      },
      "source": [
        "### Acquiring vocabulary of the data.\n"
      ]
    },
    {
      "cell_type": "code",
      "metadata": {
        "id": "pWy9t9pLXFki",
        "colab_type": "code",
        "colab": {}
      },
      "source": [
        "sentences = tokenizer.texts_to_matrix(sentences)"
      ],
      "execution_count": 0,
      "outputs": []
    },
    {
      "cell_type": "code",
      "metadata": {
        "id": "OuJJ6l52XHTw",
        "colab_type": "code",
        "outputId": "0509078d-2660-411f-e07b-e726a16c218e",
        "colab": {
          "base_uri": "https://localhost:8080/",
          "height": 33
        }
      },
      "source": [
        "import numpy as np\n",
        "le = preprocessing.LabelEncoder()\n",
        "y = le.fit_transform(y)\n",
        "X_train, X_test, y_train, y_test = train_test_split(sentences, y, test_size=0.25, random_state=1000)\n",
        "input_dim=np.prod(X_train.shape[1:])\n",
        "print(input_dim)"
      ],
      "execution_count": 0,
      "outputs": [
        {
          "output_type": "stream",
          "text": [
            "2000\n"
          ],
          "name": "stdout"
        }
      ]
    },
    {
      "cell_type": "code",
      "metadata": {
        "id": "rcyQwlRNXI6V",
        "colab_type": "code",
        "colab": {}
      },
      "source": [
        "model = Sequential()"
      ],
      "execution_count": 0,
      "outputs": []
    },
    {
      "cell_type": "code",
      "metadata": {
        "id": "mjtDdbEYvTbb",
        "colab_type": "code",
        "outputId": "e177b808-1004-4221-bcc4-dddf8105fa9a",
        "colab": {
          "base_uri": "https://localhost:8080/",
          "height": 196
        }
      },
      "source": [
        "model.add(layers.Dense(300, activation='relu',input_dim=input_dim))\n",
        "model.add(layers.Dense(3, activation='softmax'))\n",
        "model.compile(loss='sparse_categorical_crossentropy',optimizer='adam',metrics=['acc'])\n",
        "history=model.fit(X_train,y_train, epochs=5, verbose=True, validation_data=(X_test,y_test), batch_size=256)"
      ],
      "execution_count": 0,
      "outputs": [
        {
          "output_type": "stream",
          "text": [
            "Train on 75000 samples, validate on 25000 samples\n",
            "Epoch 1/5\n",
            "75000/75000 [==============================] - 4s 54us/step - loss: 0.8821 - acc: 0.5026 - val_loss: 0.8418 - val_acc: 0.5142\n",
            "Epoch 2/5\n",
            "75000/75000 [==============================] - 4s 52us/step - loss: 0.7890 - acc: 0.5787 - val_loss: 0.8549 - val_acc: 0.5000\n",
            "Epoch 3/5\n",
            "75000/75000 [==============================] - 4s 52us/step - loss: 0.6823 - acc: 0.6821 - val_loss: 0.8764 - val_acc: 0.5184\n",
            "Epoch 4/5\n",
            "75000/75000 [==============================] - 4s 53us/step - loss: 0.4845 - acc: 0.8250 - val_loss: 0.9562 - val_acc: 0.5047\n",
            "Epoch 5/5\n",
            "75000/75000 [==============================] - 4s 52us/step - loss: 0.2734 - acc: 0.9325 - val_loss: 1.0738 - val_acc: 0.5007\n"
          ],
          "name": "stdout"
        }
      ]
    },
    {
      "cell_type": "code",
      "metadata": {
        "id": "6_j1FUH__0RM",
        "colab_type": "code",
        "outputId": "9467f88e-7496-4963-c8ec-5e2b0842309d",
        "colab": {
          "base_uri": "https://localhost:8080/",
          "height": 50
        }
      },
      "source": [
        "from keras.preprocessing.sequence import pad_sequences\n",
        "max_review_len= max([len(s.split()) for s in pureSentences])\n",
        "vocab_size= len(tokenizer.word_index)+1\n",
        "sentencesPre = tokenizer.texts_to_sequences(pureSentences)\n",
        "padded_docs= pad_sequences(sentencesPre,maxlen=max_review_len)\n",
        "le = preprocessing.LabelEncoder()\n",
        "y = le.fit_transform(y)\n",
        "X_train, X_test, y_train, y_test = train_test_split(padded_docs, y, test_size=0.25, random_state=1000)\n",
        "print(vocab_size)\n",
        "print(max_review_len)\n"
      ],
      "execution_count": 0,
      "outputs": [
        {
          "output_type": "stream",
          "text": [
            "176408\n",
            "2470\n"
          ],
          "name": "stdout"
        }
      ]
    },
    {
      "cell_type": "code",
      "metadata": {
        "id": "8TSEKExP_6xD",
        "colab_type": "code",
        "colab": {}
      },
      "source": [
        "from keras.layers import Embedding, Flatten\n",
        "m = Sequential()\n",
        "m.add(Embedding(vocab_size, 50, input_length=max_review_len))\n",
        "m.add(Flatten())\n",
        "m.add(layers.Dense(300, activation='relu',input_dim=max_review_len))\n",
        "m.add(layers.Dense(3, activation='softmax'))\n",
        "m.compile(loss='sparse_categorical_crossentropy',optimizer='adam',metrics=['acc'])"
      ],
      "execution_count": 0,
      "outputs": []
    },
    {
      "cell_type": "code",
      "metadata": {
        "id": "HGpcm3BIXNmL",
        "colab_type": "code",
        "outputId": "796ab6d8-8882-4572-a472-e653be5f398b",
        "colab": {
          "base_uri": "https://localhost:8080/",
          "height": 248
        }
      },
      "source": [
        "history1=m.fit(X_train,y_train, epochs=5, verbose=True, validation_data=(X_test,y_test), batch_size=256)"
      ],
      "execution_count": 0,
      "outputs": [
        {
          "output_type": "stream",
          "text": [
            "/usr/local/lib/python3.6/dist-packages/tensorflow/python/framework/indexed_slices.py:434: UserWarning: Converting sparse IndexedSlices to a dense Tensor of unknown shape. This may consume a large amount of memory.\n",
            "  \"Converting sparse IndexedSlices to a dense Tensor of unknown shape. \"\n"
          ],
          "name": "stderr"
        },
        {
          "output_type": "stream",
          "text": [
            "Train on 75000 samples, validate on 25000 samples\n",
            "Epoch 1/5\n",
            "75000/75000 [==============================] - 209s 3ms/step - loss: 1.0655 - acc: 0.4890 - val_loss: 0.8689 - val_acc: 0.5002\n",
            "Epoch 2/5\n",
            "75000/75000 [==============================] - 213s 3ms/step - loss: 0.8442 - acc: 0.5179 - val_loss: 0.8692 - val_acc: 0.4997\n",
            "Epoch 3/5\n",
            "75000/75000 [==============================] - 209s 3ms/step - loss: 0.7941 - acc: 0.5554 - val_loss: 0.8528 - val_acc: 0.5037\n",
            "Epoch 4/5\n",
            "75000/75000 [==============================] - 212s 3ms/step - loss: 0.7201 - acc: 0.6274 - val_loss: 0.8876 - val_acc: 0.4970\n",
            "Epoch 5/5\n",
            "75000/75000 [==============================] - 209s 3ms/step - loss: 0.6141 - acc: 0.7090 - val_loss: 0.9694 - val_acc: 0.4857\n"
          ],
          "name": "stdout"
        }
      ]
    },
    {
      "cell_type": "code",
      "metadata": {
        "id": "20zPuhA3tDmI",
        "colab_type": "code",
        "outputId": "7f6a666b-fbcf-4c7a-d0d5-7570f0cc6479",
        "colab": {
          "base_uri": "https://localhost:8080/",
          "height": 295
        }
      },
      "source": [
        "import matplotlib.pyplot as plt\n",
        "plt.plot(history.history['acc'])\n",
        "plt.plot(history.history['val_acc'])\n",
        "plt.plot(history.history['loss'])\n",
        "plt.plot(history.history['val_loss'])\n",
        "plt.title('model accuracy')\n",
        "plt.ylabel('accuracy')\n",
        "plt.xlabel('epoch')\n",
        "plt.legend(['accuray', 'validation accuracy','loss','val_loss'], loc='upper left')\n",
        "plt.show()"
      ],
      "execution_count": 0,
      "outputs": [
        {
          "output_type": "display_data",
          "data": {
            "image/png": "[encoded data removed]",
            "text/plain": [
              "<Figure size 432x288 with 1 Axes>"
            ]
          },
          "metadata": {
            "tags": [],
            "needs_background": "light"
          }
        }
      ]
    },
    {
      "cell_type": "code",
      "metadata": {
        "id": "WSoVgtuLwIfv",
        "colab_type": "code",
        "colab": {}
      },
      "source": [
        "from sklearn.datasets import fetch_20newsgroups\n",
        "twenty_train = fetch_20newsgroups(subset='train', shuffle=True)\n"
      ],
      "execution_count": 0,
      "outputs": []
    },
    {
      "cell_type": "code",
      "metadata": {
        "id": "EeGiNJ9ywYtz",
        "colab_type": "code",
        "colab": {}
      },
      "source": [
        "sentences= twenty_train.data\n",
        "y=twenty_train.target"
      ],
      "execution_count": 0,
      "outputs": []
    },
    {
      "cell_type": "code",
      "metadata": {
        "id": "PlbCGc81wiMv",
        "colab_type": "code",
        "colab": {}
      },
      "source": [
        "from keras.preprocessing.sequence import pad_sequences\n",
        "max_review_len= max([len(s.split()) for s in sentences])\n",
        "vocab_size= len(tokenizer.word_index)+1\n",
        "sentencesPre = tokenizer.texts_to_sequences(sentences)\n",
        "padded_docs= pad_sequences(sentencesPre,maxlen=max_review_len)\n",
        "X_train, X_test, y_train, y_test = train_test_split(padded_docs, y, test_size=0.25, random_state=1000)\n"
      ],
      "execution_count": 0,
      "outputs": []
    },
    {
      "cell_type": "code",
      "metadata": {
        "id": "UsWHBAp0xEhx",
        "colab_type": "code",
        "colab": {}
      },
      "source": [
        "from keras.layers import Embedding, Flatten\n",
        "n = Sequential()\n",
        "n.add(Embedding(vocab_size, 50, input_length=max_review_len))\n",
        "n.add(Flatten())\n",
        "n.add(layers.Dense(300, activation='relu',input_dim=max_review_len))\n",
        "n.add(layers.Dense(20, activation='softmax'))\n",
        "n.compile(loss='sparse_categorical_crossentropy',optimizer='adam',metrics=['acc'])"
      ],
      "execution_count": 0,
      "outputs": []
    },
    {
      "cell_type": "code",
      "metadata": {
        "id": "DHpJueHaxOR-",
        "colab_type": "code",
        "outputId": "ef38885d-a6e5-4308-ab38-8fe2ff64eceb",
        "colab": {
          "base_uri": "https://localhost:8080/",
          "height": 196
        }
      },
      "source": [
        "h2=n.fit(X_train,y_train, epochs=5, verbose=True, validation_data=(X_test,y_test), batch_size=256)"
      ],
      "execution_count": 0,
      "outputs": [
        {
          "output_type": "stream",
          "text": [
            "Train on 8485 samples, validate on 2829 samples\n",
            "Epoch 1/5\n",
            "8485/8485 [==============================] - 111s 13ms/step - loss: 2.5651 - acc: 0.1622 - val_loss: 2.5692 - val_acc: 0.1453\n",
            "Epoch 2/5\n",
            "8485/8485 [==============================] - 111s 13ms/step - loss: 2.4010 - acc: 0.2293 - val_loss: 2.4741 - val_acc: 0.1647\n",
            "Epoch 3/5\n",
            "8485/8485 [==============================] - 110s 13ms/step - loss: 2.2545 - acc: 0.2834 - val_loss: 2.3912 - val_acc: 0.2075\n",
            "Epoch 4/5\n",
            "8485/8485 [==============================] - 112s 13ms/step - loss: 2.0794 - acc: 0.3604 - val_loss: 2.3373 - val_acc: 0.2177\n",
            "Epoch 5/5\n",
            "8485/8485 [==============================] - 110s 13ms/step - loss: 1.8666 - acc: 0.4392 - val_loss: 2.2407 - val_acc: 0.2382\n"
          ],
          "name": "stdout"
        }
      ]
    },
    {
      "cell_type": "code",
      "metadata": {
        "id": "yS0MCi7G5ZQz",
        "colab_type": "code",
        "colab": {}
      },
      "source": [
        "x=model.predict_classes(X_test[[1],:])"
      ],
      "execution_count": 0,
      "outputs": []
    },
    {
      "cell_type": "code",
      "metadata": {
        "id": "f4fvxjcy5jhz",
        "colab_type": "code",
        "outputId": "605d9e5b-1b95-4d21-c27a-c16f69f179ff",
        "colab": {
          "base_uri": "https://localhost:8080/",
          "height": 33
        }
      },
      "source": [
        "print(\"Actual Prediction\",y_test[1],\"Predicted Prediction\",x)"
      ],
      "execution_count": 0,
      "outputs": [
        {
          "output_type": "stream",
          "text": [
            "Actual Prediction 2 Predicted Prediction [2]\n"
          ],
          "name": "stdout"
        }
      ]
    },
    {
      "cell_type": "code",
      "metadata": {
        "id": "AMnFxY595_xF",
        "colab_type": "code",
        "outputId": "63f254d0-f8a2-4879-ddeb-445d63fcc823",
        "colab": {
          "base_uri": "https://localhost:8080/",
          "height": 180
        }
      },
      "source": [
        "from time import time\n",
        "from keras.callbacks import TensorBoard\n",
        "tensorboard = TensorBoard(log_dir=\"/content/drive/My Drive/Python Colab/DL_Lesson3/log_files/{}\".format(time()))\n",
        "model.fit(X_train,y_train,verbose=1,callbacks=[tensorboard], epochs=5)"
      ],
      "execution_count": 0,
      "outputs": [
        {
          "output_type": "stream",
          "text": [
            "75000/75000 [==============================] - 15s 197us/step - loss: 0.4303 - acc: 0.8250\n",
            "Epoch 2/5\n",
            "75000/75000 [==============================] - 15s 195us/step - loss: 0.1756 - acc: 0.9474\n",
            "Epoch 3/5\n",
            "75000/75000 [==============================] - 15s 194us/step - loss: 0.1247 - acc: 0.9689\n",
            "Epoch 4/5\n",
            "75000/75000 [==============================] - 15s 194us/step - loss: 0.1098 - acc: 0.9739\n",
            "Epoch 5/5\n",
            "75000/75000 [==============================] - 15s 194us/step - loss: 0.0958 - acc: 0.9785\n"
          ],
          "name": "stdout"
        },
        {
          "output_type": "execute_result",
          "data": {
            "text/plain": [
              "<keras.callbacks.callbacks.History at 0x7fdcd17ef828>"
            ]
          },
          "metadata": {
            "tags": []
          },
          "execution_count": 60
        }
      ]
    }
  ]
}